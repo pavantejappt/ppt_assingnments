{
 "cells": [
  {
   "cell_type": "markdown",
   "id": "6b2fa7ae-74d2-4d5e-9f41-6e1071a7bcc1",
   "metadata": {},
   "source": [
    "<aside>\n",
    "💡 **Question 1**\n",
    "\n",
    "Given two strings s and t, *determine if they are isomorphic*.\n",
    "\n",
    "Two strings s and t are isomorphic if the characters in s can be replaced to get t.\n",
    "\n",
    "All occurrences of a character must be replaced with another character while preserving the order of characters. No two characters may map to the same character, but a character may map to itself.\n",
    "\n",
    "**Example 1:**\n",
    "\n",
    "**Input:** s = \"egg\", t = \"add\"\n",
    "\n",
    "**Output:** true\n",
    "\n",
    "</aside>"
   ]
  },
  {
   "cell_type": "code",
   "execution_count": 7,
   "id": "f2d8c4ac-1785-4128-912c-a478f42ca36c",
   "metadata": {},
   "outputs": [
    {
     "data": {
      "text/plain": [
       "True"
      ]
     },
     "execution_count": 7,
     "metadata": {},
     "output_type": "execute_result"
    }
   ],
   "source": [
    "def isIsomorphic(s, t):\n",
    "    if len(s) != len(t):\n",
    "        return False\n",
    "\n",
    "    for i in range(len(s)):\n",
    "        if s.index(s[i]) != t.index(t[i]):\n",
    "            return False\n",
    "\n",
    "    return True\n",
    "isIsomorphic(s = \"egg\", t = \"add\")"
   ]
  },
  {
   "cell_type": "markdown",
   "id": "82ad7deb-c4f8-44d7-acb0-adadc16e2e3c",
   "metadata": {},
   "source": [
    "<aside>\n",
    "💡 **Question 2**\n",
    "\n",
    "Given a string num which represents an integer, return true *if* num *is a **strobogrammatic number***.\n",
    "\n",
    "A **strobogrammatic number** is a number that looks the same when rotated 180 degrees (looked at upside down).\n",
    "\n",
    "**Example 1:**\n",
    "\n",
    "**Input:** num = \"69\"\n",
    "\n",
    "**Output:**\n",
    "\n",
    "true\n",
    "\n",
    "</aside>"
   ]
  },
  {
   "cell_type": "code",
   "execution_count": 8,
   "id": "d53ba595-906b-41ff-9226-50b716c3a543",
   "metadata": {},
   "outputs": [
    {
     "data": {
      "text/plain": [
       "True"
      ]
     },
     "execution_count": 8,
     "metadata": {},
     "output_type": "execute_result"
    }
   ],
   "source": [
    "def isStrobogrammatic(num):\n",
    "    left = 0\n",
    "    right = len(num) - 1\n",
    "\n",
    "    while left <= right:\n",
    "        if num[left] == num[right]:\n",
    "            if num[left] not in ['0', '1', '8']:\n",
    "                return False\n",
    "        else:\n",
    "            if (num[left] != '6' or num[right] != '9') and (num[left] != '9' or num[right] != '6'):\n",
    "                return False\n",
    "\n",
    "        left += 1\n",
    "        right -= 1\n",
    "\n",
    "    return True\n",
    "isStrobogrammatic(num=\"69\")"
   ]
  },
  {
   "cell_type": "markdown",
   "id": "865b5c02-3b87-42a4-bc86-8b73de26400b",
   "metadata": {},
   "source": [
    "<aside>\n",
    "💡 **Question 3**\n",
    "\n",
    "Given two non-negative integers, num1 and num2 represented as string, return *the sum of* num1 *and* num2 *as a string*.\n",
    "\n",
    "You must solve the problem without using any built-in library for handling large integers (such as BigInteger). You must also not convert the inputs to integers directly.\n",
    "\n",
    "**Example 1:**\n",
    "\n",
    "**Input:** num1 = \"11\", num2 = \"123\"\n",
    "\n",
    "**Output:**\n",
    "\n",
    "\"134\"\n",
    "\n",
    "</aside>"
   ]
  },
  {
   "cell_type": "code",
   "execution_count": 6,
   "id": "02f5ee6f-8e0f-4eab-a16e-297bedb72009",
   "metadata": {},
   "outputs": [
    {
     "data": {
      "text/plain": [
       "'134'"
      ]
     },
     "execution_count": 6,
     "metadata": {},
     "output_type": "execute_result"
    }
   ],
   "source": [
    "def addStrings(num1, num2):\n",
    "    result = \"\"\n",
    "    i = len(num1) - 1\n",
    "    j = len(num2) - 1\n",
    "    carry = 0\n",
    "\n",
    "    while i >= 0 or j >= 0:\n",
    "        digit1 = int(num1[i]) if i >= 0 else 0\n",
    "        digit2 = int(num2[j]) if j >= 0 else 0\n",
    "\n",
    "        tempSum = digit1 + digit2 + carry\n",
    "        carry = tempSum // 10\n",
    "        result = str(tempSum % 10) + result\n",
    "\n",
    "        i -= 1\n",
    "        j -= 1\n",
    "\n",
    "    if carry > 0:\n",
    "        result = str(carry) + result\n",
    "\n",
    "    return result\n",
    "addStrings(num1 = \"11\", num2 = \"123\")"
   ]
  },
  {
   "cell_type": "markdown",
   "id": "57e85615-c0db-4b6a-994f-329b2b7196cb",
   "metadata": {},
   "source": [
    "<aside>\n",
    "💡 **Question 4**\n",
    "\n",
    "Given a string s, reverse the order of characters in each word within a sentence while still preserving whitespace and initial word order.\n",
    "\n",
    "**Example 1:**\n",
    "\n",
    "**Input:** s = \"Let's take LeetCode contest\"\n",
    "\n",
    "**Output:** \"s'teL ekat edoCteeL tsetnoc\"\n",
    "\n",
    "</aside>"
   ]
  },
  {
   "cell_type": "code",
   "execution_count": 3,
   "id": "b53b1a49-04cd-4215-a31e-80b2359fed3a",
   "metadata": {},
   "outputs": [
    {
     "data": {
      "text/plain": [
       "\"s'teL ekat edoCteeL tsetnoc \""
      ]
     },
     "execution_count": 3,
     "metadata": {},
     "output_type": "execute_result"
    }
   ],
   "source": [
    "s = \"Let's take LeetCode contest\"\n",
    "def reverse(s):\n",
    "    s=s.split(\" \")\n",
    "    ans=\"\"\n",
    "    for i in range(len(s)):\n",
    "        s[i]=s[i][::-1]\n",
    "        ans=ans+s[i]+\" \"\n",
    "    return ans\n",
    "reverse(s)\n",
    "    "
   ]
  },
  {
   "cell_type": "markdown",
   "id": "5d935ca1-d16a-4b5d-8a36-4ef840b6a34f",
   "metadata": {},
   "source": [
    "<aside>\n",
    "💡 **Question 5**\n",
    "\n",
    "Given a string s and an integer k, reverse the first k characters for every 2k characters counting from the start of the string.\n",
    "\n",
    "If there are fewer than k characters left, reverse all of them. If there are less than 2k but greater than or equal to k characters, then reverse the first k characters and leave the other as original.\n",
    "\n",
    "**Example 1:**\n",
    "\n",
    "**Input:** s = \"abcdefg\", k = 2\n",
    "\n",
    "**Output:**\n",
    "\n",
    "\"bacdfeg\"\n",
    "\n",
    "</aside>"
   ]
  },
  {
   "cell_type": "code",
   "execution_count": 11,
   "id": "c96a2877-c7ef-4dfa-975d-afd130253ce2",
   "metadata": {},
   "outputs": [
    {
     "data": {
      "text/plain": [
       "'bacdfeg'"
      ]
     },
     "execution_count": 11,
     "metadata": {},
     "output_type": "execute_result"
    }
   ],
   "source": [
    "def reverseStr(s, k):\n",
    "    s = list(s)\n",
    "    n = len(s)\n",
    "\n",
    "    for i in range(0, n, 2 * k):\n",
    "        start = i\n",
    "        end = min(i + k - 1, n - 1)\n",
    "\n",
    "        while start < end:\n",
    "            s[start], s[end] = s[end], s[start]\n",
    "            start += 1\n",
    "            end -= 1\n",
    "\n",
    "    return ''.join(s)\n",
    "reverseStr(s = \"abcdefg\", k = 2)"
   ]
  },
  {
   "cell_type": "markdown",
   "id": "9fe36473-9edc-4d86-85f4-f816fcdb5c4d",
   "metadata": {},
   "source": [
    "<aside>\n",
    "💡 **Question 6**\n",
    "\n",
    "Given two strings s and goal, return true *if and only if* s *can become* goal *after some number of **shifts** on* s.\n",
    "\n",
    "A **shift** on s consists of moving the leftmost character of s to the rightmost position.\n",
    "\n",
    "- For example, if s = \"abcde\", then it will be \"bcdea\" after one shift.\n",
    "\n",
    "**Example 1:**\n",
    "\n",
    "**Input:** s = \"abcde\", goal = \"cdeab\"\n",
    "\n",
    "**Output:**\n",
    "\n",
    "true\n",
    "\n",
    "</aside>"
   ]
  },
  {
   "cell_type": "code",
   "execution_count": 14,
   "id": "15621ca3-71f7-4cfe-bc78-579a6e8a7f2a",
   "metadata": {},
   "outputs": [
    {
     "data": {
      "text/plain": [
       "True"
      ]
     },
     "execution_count": 14,
     "metadata": {},
     "output_type": "execute_result"
    }
   ],
   "source": [
    "def rotate_str(str,goal):\n",
    "    rotations=[]\n",
    "    for i in range(1,len(str)):\n",
    "        s=str[0:i][::-1]\n",
    "        t=str[i:][::-1]\n",
    "        u=s+t\n",
    "        u=u[::-1]\n",
    "        rotations.append(u)\n",
    "    if goal in rotations :\n",
    "        return True\n",
    "    else :\n",
    "        return False\n",
    "rotate_str(\"abcde\",goal = \"cdeab\")"
   ]
  },
  {
   "cell_type": "markdown",
   "id": "a5e4dd3f-6b0b-42f8-8d4d-725174e9f6d7",
   "metadata": {},
   "source": [
    "<aside>\n",
    "💡 **Question 7**\n",
    "\n",
    "Given two strings s and t, return true *if they are equal when both are typed into empty text editors*. '#' means a backspace character.\n",
    "\n",
    "Note that after backspacing an empty text, the text will continue empty.\n",
    "\n",
    "**Example 1:**\n",
    "\n",
    "**Input:** s = \"ab#c\", t = \"ad#c\"\n",
    "\n",
    "**Output:** true\n",
    "\n",
    "**Explanation:**\n",
    "\n",
    "Both s and t become \"ac\".\n",
    "\n",
    "</aside>"
   ]
  },
  {
   "cell_type": "code",
   "execution_count": 7,
   "id": "43420e3f-4126-4357-a64d-0169bfbf6fbb",
   "metadata": {},
   "outputs": [
    {
     "data": {
      "text/plain": [
       "True"
      ]
     },
     "execution_count": 7,
     "metadata": {},
     "output_type": "execute_result"
    }
   ],
   "source": [
    "def str_equal(s,t):\n",
    "    a=s.index('#')\n",
    "    if a!= 0 :\n",
    "        rem=s[a-1]\n",
    "        s=s.replace('#','')\n",
    "        s=s.replace(rem,'')\n",
    "    else :\n",
    "        s=s.replace('#','')\n",
    "    b=t.index('#')\n",
    "    if b!= 0 :\n",
    "        rem=t[b-1]\n",
    "        t=t.replace('#','')\n",
    "        t=t.replace(rem,'')\n",
    "    else :\n",
    "        t=t.replace('#','')\n",
    "    return s==t\n",
    "str_equal(s = \"ab#c\", t = \"ad#c\")"
   ]
  },
  {
   "cell_type": "markdown",
   "id": "4515e3e9-7994-4bd7-a2a0-ec6bf970180d",
   "metadata": {},
   "source": [
    "<aside>\n",
    "💡 **Question 8**\n",
    "\n",
    "You are given an array coordinates, coordinates[i] = [x, y], where [x, y] represents the coordinate of a point. Check if these points make a straight line in the XY plane.\n",
    "\n",
    "**Example 1:**\n",
    "\n",
    "</aside>"
   ]
  },
  {
   "cell_type": "code",
   "execution_count": 5,
   "id": "b7dc364c-45a9-434f-9f43-611b6e80657a",
   "metadata": {},
   "outputs": [
    {
     "data": {
      "text/plain": [
       "True"
      ]
     },
     "execution_count": 5,
     "metadata": {},
     "output_type": "execute_result"
    }
   ],
   "source": [
    "def collinear(points):\n",
    "    slope_num=points[1][1]-points[0][1]\n",
    "    slope_den=points[1][0]-points[0][0]\n",
    "    for i in range(len(points)-1):\n",
    "        if ((points[i+1][1]-points[i][1])  * slope_den  )!=  ((points[i+1][0]-points[i][0]) * slope_num) :\n",
    "            return False\n",
    "    return True\n",
    "collinear([[1,2],[2,3],[3,4],[4,5],[5,6],[6,7]])"
   ]
  },
  {
   "cell_type": "code",
   "execution_count": null,
   "id": "6992c15c-e218-4fef-b98e-bd6195caf6d0",
   "metadata": {},
   "outputs": [],
   "source": []
  }
 ],
 "metadata": {
  "kernelspec": {
   "display_name": "Python 3 (ipykernel)",
   "language": "python",
   "name": "python3"
  },
  "language_info": {
   "codemirror_mode": {
    "name": "ipython",
    "version": 3
   },
   "file_extension": ".py",
   "mimetype": "text/x-python",
   "name": "python",
   "nbconvert_exporter": "python",
   "pygments_lexer": "ipython3",
   "version": "3.10.8"
  }
 },
 "nbformat": 4,
 "nbformat_minor": 5
}
