{
 "cells": [
  {
   "cell_type": "markdown",
   "id": "0be7f98f-133c-4112-92e3-2e5beb8fe361",
   "metadata": {},
   "source": [
    "1. Scenario: A company wants to analyze the sales performance of its products in different regions. They have collected the following data:\n",
    "   Region A: [10, 15, 12, 8, 14]\n",
    "   Region B: [18, 20, 16, 22, 25]\n",
    "   Calculate the mean sales for each region.\n",
    "\n",
    "2. Scenario: A survey is conducted to measure customer satisfaction on a scale of 1 to 5. The data collected is as follows:\n",
    "   [4, 5, 2, 3, 5, 4, 3, 2, 4, 5]\n",
    "   Calculate the mode of the survey responses.\n",
    "\n",
    "3. Scenario: A company wants to compare the salaries of two departments. The salary data for Department A and Department B are as follows:\n",
    "   Department A: [5000, 6000, 5500, 7000]\n",
    "   Department B: [4500, 5500, 5800, 6000, 5200]\n",
    "   Calculate the median salary for each department.\n",
    "\n",
    "4. Scenario: A data analyst wants to determine the variability in the daily stock prices of a company. The data collected is as follows:\n",
    "   [25.5, 24.8, 26.1, 25.3, 24.9]\n",
    "   Calculate the range of the stock prices.\n",
    "\n",
    "5. Scenario: A study is conducted to compare the performance of two different teaching methods. The test scores of the students in each group are as follows:\n",
    "   Group A: [85, 90, 92, 88, 91]\n",
    "   Group B: [82, 88, 90, 86, 87]\n",
    "   Perform a t-test to determine if there is a significant difference in the mean scores between the two groups.\n",
    "\n",
    "6. Scenario: A company wants to analyze the relationship between advertising expenditure and sales. The data collected is as follows:\n",
    "   Advertising Expenditure (in thousands): [10, 15, 12, 8, 14]\n",
    "   Sales (in thousands): [25, 30, 28, 20, 26]\n",
    "   Calculate the correlation coefficient between advertising expenditure and sales.\n",
    "\n",
    "7. Scenario: A survey is conducted to measure the heights of a group of people. The data collected is as follows:\n",
    "   [160, 170, 165, 155, 175, 180, 170]\n",
    "   Calculate the standard deviation of the heights.\n",
    "\n",
    "8. Scenario: A company wants to analyze the relationship between employee tenure and job satisfaction. The data collected is as follows:\n",
    "   Employee Tenure (in years): [2, 3, 5, 4, 6, 2, 4]\n",
    "   Job Satisfaction (on a scale of 1 to 10): [7, 8, 6, 9, 5, 7, 6]\n",
    "   Perform a linear regression analysis to predict job satisfaction based on employee tenure.\n",
    "\n",
    "9. Scenario: A study is conducted to compare the effectiveness of two different medications. The recovery times of the patients in each group are as follows:\n",
    "   Medication A: [10, 12, 14, 11, 13]\n",
    "   Medication B: [15, 17, 16, 14, 18]\n",
    "   Perform an analysis of variance (ANOVA) to determine if there is a significant difference in the mean recovery times between the two medications.\n",
    "\n",
    "10. Scenario: A company wants to analyze customer feedback ratings on a scale of 1 to 10. The data collected is\n",
    "\n",
    " as follows:\n",
    "    [8, 9, 7, 6, 8, 10, 9, 8, 7, 8]\n",
    "    Calculate the 75th percentile of the feedback ratings.\n",
    "\n",
    "11. Scenario: A quality control department wants to test the weight consistency of a product. The weights of a sample of products are as follows:\n",
    "    [10.2, 9.8, 10.0, 10.5, 10.3, 10.1]\n",
    "    Perform a hypothesis test to determine if the mean weight differs significantly from 10 grams.\n",
    "\n",
    "12. Scenario: A company wants to analyze the click-through rates of two different website designs. The number of clicks for each design is as follows:\n",
    "    Design A: [100, 120, 110, 90, 95]\n",
    "    Design B: [80, 85, 90, 95, 100]\n",
    "    Perform a chi-square test to determine if there is a significant difference in the click-through rates between the two designs.\n",
    "\n",
    "13. Scenario: A survey is conducted to measure customer satisfaction with a product on a scale of 1 to 10. The data collected is as follows:\n",
    "    [7, 9, 6, 8, 10, 7, 8, 9, 7, 8]\n",
    "    Calculate the 95% confidence interval for the population mean satisfaction score.\n",
    "\n",
    "14. Scenario: A company wants to analyze the effect of temperature on product performance. The data collected is as follows:\n",
    "    Temperature (in degrees Celsius): [20, 22, 23, 19, 21]\n",
    "    Performance (on a scale of 1 to 10): [8, 7, 9, 6, 8]\n",
    "    Perform a simple linear regression to predict performance based on temperature.\n",
    "\n",
    "15. Scenario: A study is conducted to compare the preferences of two groups of participants. The preferences are measured on a Likert scale from 1 to 5. The data collected is as follows:\n",
    "    Group A: [4, 3, 5, 2, 4]\n",
    "    Group B: [3, 2, 4, 3, 3]\n",
    "    Perform a Mann-Whitney U test to determine if there is a significant difference in the median preferences between the two groups.\n",
    "\n",
    "16. Scenario: A company wants to analyze the distribution of customer ages. The data collected is as follows:\n",
    "    [25, 30, 35, 40, 45, 50, 55, 60, 65, 70]\n",
    "    Calculate the interquartile range (IQR) of the ages.\n",
    "\n",
    "17. Scenario: A study is conducted to compare the performance of three different machine learning algorithms. The accuracy scores for each algorithm are as follows:\n",
    "    Algorithm A: [0.85, 0.80, 0.82, 0.87, 0.83]\n",
    "    Algorithm B: [0.78, 0.82, 0.84, 0.80, 0.79]\n",
    "    Algorithm C: [0.90, 0.88, 0.89, 0.86, 0.87]\n",
    "    Perform a Kruskal-Wallis test to determine if there is a significant difference in the median accuracy scores between the algorithms.\n",
    "\n",
    "18. Scenario: A company wants to analyze the effect of price on sales. The data collected is as follows:\n",
    "    Price (in dollars): [10, 15, 12, 8, 14]\n",
    "    Sales: [100, 80, 90, 110, 95]\n",
    "    Perform a simple linear regression to predict\n",
    "\n",
    " sales based on price.\n",
    "\n",
    "19. Scenario: A survey is conducted to measure the satisfaction levels of customers with a new product. The data collected is as follows:\n",
    "    [7, 8, 9, 6, 8, 7, 9, 7, 8, 7]\n",
    "    Calculate the standard error of the mean satisfaction score.\n",
    "\n",
    "20. Scenario: A company wants to analyze the relationship between advertising expenditure and sales. The data collected is as follows:\n",
    "    Advertising Expenditure (in thousands): [10, 15, 12, 8, 14]\n",
    "    Sales (in thousands): [25, 30, 28, 20, 26]\n",
    "    Perform a multiple regression analysis to predict sales based on advertising expenditure.\n",
    "\n",
    "\n"
   ]
  },
  {
   "cell_type": "code",
   "execution_count": 2,
   "id": "47dbc5ed-9d71-43c7-9af2-f7fb9df8d709",
   "metadata": {},
   "outputs": [
    {
     "data": {
      "text/plain": [
       "20.2"
      ]
     },
     "execution_count": 2,
     "metadata": {},
     "output_type": "execute_result"
    }
   ],
   "source": [
    "#q1\n",
    "import statistics\n",
    "Region_A= [10, 15, 12, 8, 14]\n",
    "Region_B= [18, 20, 16, 22, 25]\n",
    "statistics.mean(Region_A)\n",
    "statistics.mean(Region_B)"
   ]
  },
  {
   "cell_type": "code",
   "execution_count": 3,
   "id": "e1b054c8-58cf-44ba-a50e-d28793b1b883",
   "metadata": {},
   "outputs": [
    {
     "data": {
      "text/plain": [
       "4"
      ]
     },
     "execution_count": 3,
     "metadata": {},
     "output_type": "execute_result"
    }
   ],
   "source": [
    "#q2\n",
    "data= [4, 5, 2, 3, 5, 4, 3, 2, 4, 5]\n",
    "statistics.mode(data)"
   ]
  },
  {
   "cell_type": "code",
   "execution_count": 4,
   "id": "ff435aec-4a02-4713-b701-30bb2b5168a9",
   "metadata": {},
   "outputs": [
    {
     "data": {
      "text/plain": [
       "5500"
      ]
     },
     "execution_count": 4,
     "metadata": {},
     "output_type": "execute_result"
    }
   ],
   "source": [
    "#q3\n",
    "Department_A= [5000, 6000, 5500, 7000] \n",
    "Department_B= [4500, 5500, 5800, 6000, 5200]\n",
    "statistics.median(Department_A)\n",
    "statistics.median(Department_B)"
   ]
  },
  {
   "cell_type": "code",
   "execution_count": 6,
   "id": "bd1253a8-551a-4953-8bbe-fcfa8bc121df",
   "metadata": {},
   "outputs": [
    {
     "name": "stdout",
     "output_type": "stream",
     "text": [
      "1.3000000000000007\n"
     ]
    }
   ],
   "source": [
    "#q4\n",
    "data=[25.5, 24.8, 26.1, 25.3, 24.9]\n",
    "print(max(data)-min(data))"
   ]
  },
  {
   "cell_type": "code",
   "execution_count": 7,
   "id": "ac63861c-5cc3-4424-941a-bb3d18b77359",
   "metadata": {},
   "outputs": [
    {
     "name": "stdout",
     "output_type": "stream",
     "text": [
      "T-Statistic:  1.4312528946642733\n",
      "P-Value:  0.19023970239078333\n"
     ]
    }
   ],
   "source": [
    "#q5\n",
    "Group_A= [85, 90, 92, 88, 91] \n",
    "Group_B= [82, 88, 90, 86, 87]\n",
    "import scipy.stats as stats\n",
    "\n",
    "t_statistic, p_value = stats.ttest_ind(Group_A, Group_B)\n",
    "\n",
    "# Print the results\n",
    "print(\"T-Statistic: \", t_statistic)\n",
    "print(\"P-Value: \", p_value)\n",
    "\n"
   ]
  },
  {
   "cell_type": "code",
   "execution_count": 8,
   "id": "1ca5d402-059c-4859-b7d2-4c992f31e4c3",
   "metadata": {},
   "outputs": [
    {
     "data": {
      "text/plain": [
       "0.8757511375750133"
      ]
     },
     "execution_count": 8,
     "metadata": {},
     "output_type": "execute_result"
    }
   ],
   "source": [
    "#q6\n",
    "Expenditure= [10, 15, 12, 8, 14] \n",
    "Sales= [25, 30, 28, 20, 26]\n",
    "statistics.correlation(Expenditure,Sales)"
   ]
  },
  {
   "cell_type": "code",
   "execution_count": 9,
   "id": "a9b1372e-c08f-438d-b4bc-9e16132c9c4b",
   "metadata": {},
   "outputs": [
    {
     "data": {
      "text/plain": [
       "8.591246929842246"
      ]
     },
     "execution_count": 9,
     "metadata": {},
     "output_type": "execute_result"
    }
   ],
   "source": [
    "#q7\n",
    "data= [160, 170, 165, 155, 175, 180, 170]\n",
    "statistics.stdev(data)"
   ]
  },
  {
   "cell_type": "code",
   "execution_count": 11,
   "id": "92233574-e4ad-485c-b5fc-2108cf609ad9",
   "metadata": {},
   "outputs": [
    {
     "name": "stdout",
     "output_type": "stream",
     "text": [
      "[6.25531915]\n"
     ]
    }
   ],
   "source": [
    "#q8\n",
    "import numpy as np\n",
    "from sklearn.linear_model import LinearRegression\n",
    "\n",
    "Employee_Tenure = np.array([2, 3, 5, 4, 6, 2, 4]).reshape(-1, 1)\n",
    "Job_Satisfaction = np.array([7, 8, 6, 9, 5, 7, 6])\n",
    "\n",
    "lr = LinearRegression()\n",
    "lr.fit(Employee_Tenure, Job_Satisfaction)\n",
    "\n",
    "prediction = lr.predict(np.array([[5]]))\n",
    "print(prediction)\n"
   ]
  },
  {
   "cell_type": "code",
   "execution_count": 12,
   "id": "2d91452b-996a-496c-87bf-9c1a758119cc",
   "metadata": {},
   "outputs": [
    {
     "name": "stdout",
     "output_type": "stream",
     "text": [
      "F-Statistic:  16.0\n",
      "P-Value:  0.003949772803445326\n"
     ]
    }
   ],
   "source": [
    "#q9\n",
    "import scipy.stats as stats\n",
    "\n",
    "# Recovery times for Medication A\n",
    "medication_a = [10, 12, 14, 11, 13]\n",
    "# Recovery times for Medication B\n",
    "medication_b = [15, 17, 16, 14, 18]\n",
    "\n",
    "# Perform ANOVA\n",
    "f_statistic, p_value = stats.f_oneway(medication_a, medication_b)\n",
    "\n",
    "# Print the results\n",
    "print(\"F-Statistic: \", f_statistic)\n",
    "print(\"P-Value: \", p_value)\n"
   ]
  },
  {
   "cell_type": "code",
   "execution_count": 1,
   "id": "da3a3b0f-cb4e-45f1-8a4c-6c3cda1abe8c",
   "metadata": {},
   "outputs": [
    {
     "name": "stdout",
     "output_type": "stream",
     "text": [
      "75th percentile:  8.75\n"
     ]
    }
   ],
   "source": [
    "#q10\n",
    "import numpy as np\n",
    "\n",
    "# Feedback ratings\n",
    "feedback_ratings = [8, 9, 7, 6, 8, 10, 9, 8, 7, 8]\n",
    "\n",
    "# Calculate the 75th percentile\n",
    "percentile_75 = np.percentile(feedback_ratings, 75)\n",
    "\n",
    "# Print the result\n",
    "print(\"75th percentile: \", percentile_75)\n",
    "\n"
   ]
  },
  {
   "cell_type": "code",
   "execution_count": 2,
   "id": "68af3dc8-b1bf-4ffd-a369-477254a0a016",
   "metadata": {},
   "outputs": [
    {
     "name": "stdout",
     "output_type": "stream",
     "text": [
      "T-Statistic:  1.5126584522688367\n",
      "P-Value:  0.19077595151110102\n"
     ]
    }
   ],
   "source": [
    "#q11\n",
    "import scipy.stats as stats\n",
    "\n",
    "# Weights of the sample\n",
    "weights = [10.2, 9.8, 10.0, 10.5, 10.3, 10.1]\n",
    "\n",
    "# Hypothesized mean\n",
    "hypothesized_mean = 10\n",
    "\n",
    "# Perform one-sample t-test\n",
    "t_statistic, p_value = stats.ttest_1samp(weights, hypothesized_mean)\n",
    "\n",
    "# Print the results\n",
    "print(\"T-Statistic: \", t_statistic)\n",
    "print(\"P-Value: \", p_value)\n"
   ]
  },
  {
   "cell_type": "code",
   "execution_count": 3,
   "id": "c6e192bf-3b92-47dd-b371-3a4f51561d42",
   "metadata": {},
   "outputs": [
    {
     "name": "stdout",
     "output_type": "stream",
     "text": [
      "T-Statistic:  2.0179913668364655\n",
      "P-Value:  0.07830210446054257\n"
     ]
    }
   ],
   "source": [
    "#q12\n",
    "import scipy.stats as stats\n",
    "\n",
    "# Clicks for Design A\n",
    "clicks_a = [100, 120, 110, 90, 95]\n",
    "# Clicks for Design B\n",
    "clicks_b = [80, 85, 90, 95, 100]\n",
    "\n",
    "# Perform independent t-test\n",
    "t_statistic, p_value = stats.ttest_ind(clicks_a, clicks_b)\n",
    "\n",
    "# Print the results\n",
    "print(\"T-Statistic: \", t_statistic)\n",
    "print(\"P-Value: \", p_value)\n"
   ]
  },
  {
   "cell_type": "code",
   "execution_count": 4,
   "id": "2529d888-293c-4a59-9e81-5d50ab3e3e81",
   "metadata": {},
   "outputs": [
    {
     "name": "stdout",
     "output_type": "stream",
     "text": [
      "95% Confidence Interval: (7.04, 8.76)\n"
     ]
    }
   ],
   "source": [
    "#q13\n",
    "import numpy as np\n",
    "import scipy.stats as stats\n",
    "\n",
    "# Satisfaction scores\n",
    "scores = np.array([7, 9, 6, 8, 10, 7, 8, 9, 7, 8])\n",
    "\n",
    "# Calculate sample mean and standard deviation\n",
    "sample_mean = np.mean(scores)\n",
    "sample_std = np.std(scores, ddof=1)\n",
    "\n",
    "# Calculate critical value for 95% confidence interval\n",
    "critical_value = stats.t.ppf(0.975, df=len(scores)-1)\n",
    "\n",
    "# Calculate margin of error\n",
    "margin_of_error = critical_value * (sample_std / np.sqrt(len(scores)))\n",
    "\n",
    "# Calculate confidence interval bounds\n",
    "lower_bound = sample_mean - margin_of_error\n",
    "upper_bound = sample_mean + margin_of_error\n",
    "\n",
    "# Print the confidence interval\n",
    "print(\"95% Confidence Interval: ({:.2f}, {:.2f})\".format(lower_bound, upper_bound))\n"
   ]
  },
  {
   "cell_type": "code",
   "execution_count": 11,
   "id": "1b56716c-f1e4-43e7-a183-8569c57fa439",
   "metadata": {},
   "outputs": [
    {
     "name": "stdout",
     "output_type": "stream",
     "text": [
      "[9.6]\n"
     ]
    }
   ],
   "source": [
    "#q14\n",
    "import numpy as np\n",
    "from sklearn.linear_model import LinearRegression \n",
    "Temperature=np.array([20, 22, 23, 19, 21] ).reshape(-1,1)\n",
    "Performance=np.array([8, 7, 9, 6, 8])\n",
    "\n",
    "lr = LinearRegression()\n",
    "lr.fit(Temperature,Performance)\n",
    "\n",
    "prediction = lr.predict(np.array([[25]]))\n",
    "print(prediction)"
   ]
  },
  {
   "cell_type": "code",
   "execution_count": 8,
   "id": "0d3bee3f-d28a-4db8-8695-549d4fe8890e",
   "metadata": {},
   "outputs": [
    {
     "name": "stdout",
     "output_type": "stream",
     "text": [
      "Mann-Whitney U Statistic:  17.0\n",
      "P-Value:  0.380836480306712\n"
     ]
    }
   ],
   "source": [
    "#q15\n",
    "import scipy.stats as stats\n",
    "\n",
    "# Preferences for Group A and Group B\n",
    "group_a = [4, 3, 5, 2, 4]\n",
    "group_b = [3, 2, 4, 3, 3]\n",
    "\n",
    "# Perform Mann-Whitney U test\n",
    "u_statistic, p_value = stats.mannwhitneyu(group_a, group_b)\n",
    "\n",
    "# Print the results\n",
    "print(\"Mann-Whitney U Statistic: \", u_statistic)\n",
    "print(\"P-Value: \", p_value)\n"
   ]
  },
  {
   "cell_type": "code",
   "execution_count": 9,
   "id": "bfabcb1b-d7b1-4577-9009-459af6f59092",
   "metadata": {},
   "outputs": [
    {
     "name": "stdout",
     "output_type": "stream",
     "text": [
      "Interquartile Range (IQR):  22.5\n"
     ]
    }
   ],
   "source": [
    "#q16\n",
    "import numpy as np\n",
    "\n",
    "# Ages data\n",
    "ages = np.array([25, 30, 35, 40, 45, 50, 55, 60, 65, 70])\n",
    "\n",
    "# Calculate interquartile range (IQR)\n",
    "q3, q1 = np.percentile(ages, [75, 25])\n",
    "iqr = q3 - q1\n",
    "\n",
    "# Print the IQR\n",
    "print(\"Interquartile Range (IQR): \", iqr)\n"
   ]
  },
  {
   "cell_type": "code",
   "execution_count": 10,
   "id": "de3f5cbf-bc43-43e9-abaf-e451c93f4886",
   "metadata": {},
   "outputs": [
    {
     "name": "stdout",
     "output_type": "stream",
     "text": [
      "Kruskal-Wallis H Statistic:  9.696947935368053\n",
      "P-Value:  0.007840333026249539\n"
     ]
    }
   ],
   "source": [
    "#q17\n",
    "import scipy.stats as stats\n",
    "\n",
    "# Accuracy scores for each algorithm\n",
    "algorithm_a = [0.85, 0.80, 0.82, 0.87, 0.83]\n",
    "algorithm_b = [0.78, 0.82, 0.84, 0.80, 0.79]\n",
    "algorithm_c = [0.90, 0.88, 0.89, 0.86, 0.87]\n",
    "\n",
    "# Perform Kruskal-Wallis test\n",
    "h_statistic, p_value = stats.kruskal(algorithm_a, algorithm_b, algorithm_c)\n",
    "\n",
    "# Print the results\n",
    "print(\"Kruskal-Wallis H Statistic: \", h_statistic)\n",
    "print(\"P-Value: \", p_value)\n"
   ]
  },
  {
   "cell_type": "code",
   "execution_count": 12,
   "id": "ffc6a6a8-b8dc-40a4-9043-3fd4a8d804ac",
   "metadata": {},
   "outputs": [
    {
     "name": "stdout",
     "output_type": "stream",
     "text": [
      "[19.]\n"
     ]
    }
   ],
   "source": [
    "#q18\n",
    "import numpy as np\n",
    "from sklearn.linear_model import LinearRegression\n",
    "Price=np.array( [10, 15, 12, 8, 14]).reshape(-1,1)\n",
    "Sales=np.array([10, 15, 12, 8, 14])\n",
    "\n",
    "lr = LinearRegression()\n",
    "lr.fit(Price,Sales)\n",
    "\n",
    "prediction = lr.predict(np.array([[19]]))\n",
    "print(prediction)"
   ]
  },
  {
   "cell_type": "code",
   "execution_count": 13,
   "id": "7c308bce-8c11-496a-9ff9-c5d9bfc75053",
   "metadata": {},
   "outputs": [
    {
     "name": "stdout",
     "output_type": "stream",
     "text": [
      "Standard Error of the Mean:  0.30550504633038933\n"
     ]
    }
   ],
   "source": [
    "#q19\n",
    "import numpy as np\n",
    "\n",
    "# Satisfaction scores\n",
    "scores = np.array([7, 8, 9, 6, 8, 7, 9, 7, 8, 7])\n",
    "\n",
    "# Calculate the standard error of the mean\n",
    "standard_error = np.std(scores, ddof=1) / np.sqrt(len(scores))\n",
    "\n",
    "# Print the standard error\n",
    "print(\"Standard Error of the Mean: \", standard_error)\n"
   ]
  },
  {
   "cell_type": "code",
   "execution_count": 14,
   "id": "58b77add-6cb3-4bd6-b675-ec3e33ead631",
   "metadata": {},
   "outputs": [
    {
     "name": "stdout",
     "output_type": "stream",
     "text": [
      "Coefficient(s):  [1.15243902]\n",
      "Intercept:  12.20121951219512\n"
     ]
    }
   ],
   "source": [
    "import numpy as np\n",
    "from sklearn.linear_model import LinearRegression\n",
    "\n",
    "# Advertising expenditure (in thousands)\n",
    "expenditure = np.array([10, 15, 12, 8, 14]).reshape(-1, 1)\n",
    "\n",
    "# Sales (in thousands)\n",
    "sales = np.array([25, 30, 28, 20, 26])\n",
    "\n",
    "# Perform multiple regression analysis\n",
    "regression_model = LinearRegression()\n",
    "regression_model.fit(expenditure, sales)\n",
    "\n",
    "# Print the coefficients and intercept\n",
    "print(\"Coefficient(s): \", regression_model.coef_)\n",
    "print(\"Intercept: \", regression_model.intercept_)\n"
   ]
  },
  {
   "cell_type": "code",
   "execution_count": null,
   "id": "d932569c-ebbd-4717-a851-ec2ef0f04e93",
   "metadata": {},
   "outputs": [],
   "source": []
  }
 ],
 "metadata": {
  "kernelspec": {
   "display_name": "Python 3 (ipykernel)",
   "language": "python",
   "name": "python3"
  },
  "language_info": {
   "codemirror_mode": {
    "name": "ipython",
    "version": 3
   },
   "file_extension": ".py",
   "mimetype": "text/x-python",
   "name": "python",
   "nbconvert_exporter": "python",
   "pygments_lexer": "ipython3",
   "version": "3.10.8"
  }
 },
 "nbformat": 4,
 "nbformat_minor": 5
}
