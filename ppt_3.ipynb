{
 "cells": [
  {
   "cell_type": "markdown",
   "id": "9beedf50-7f13-4fc7-ab6b-132bca539b30",
   "metadata": {},
   "source": [
    "Question 1\n",
    "Given an integer array nums of length n and an integer target, find three integers\n",
    "in nums such that the sum is closest to the target.\n",
    "Return the sum of the three integers.\n",
    "\n",
    "You may assume that each input would have exactly one solution.\n",
    "\n",
    "Example 1:\n",
    "Input: nums = [-1,2,1,-4], target = 1\n",
    "Output: 2\n",
    "\n",
    "Explanation: The sum that is closest to the target is 2. (-1 + 2 + 1 = 2)."
   ]
  },
  {
   "cell_type": "code",
   "execution_count": 34,
   "id": "ed83fa38-1e0e-4b14-96ab-3f214d89589c",
   "metadata": {},
   "outputs": [
    {
     "data": {
      "text/plain": [
       "(-1, 2, 1)"
      ]
     },
     "execution_count": 34,
     "metadata": {},
     "output_type": "execute_result"
    }
   ],
   "source": [
    "import itertools \n",
    "def closest_sum(nums,target):\n",
    "    possibilities=list(itertools.combinations(nums,3))\n",
    "    closest_sum=None\n",
    "    min_diff=float('inf')\n",
    "    for i in possibilities :\n",
    "        curr_sum=sum(i)\n",
    "        diff=abs(target-curr_sum)\n",
    "        if diff<min_diff :\n",
    "            min_diff=diff\n",
    "            closest_sum=i\n",
    "    return closest_sum\n",
    "closest_sum([-1,2,1,-4],2)\n",
    "        "
   ]
  },
  {
   "cell_type": "markdown",
   "id": "23718448-4254-43c1-93ef-bb2d2e2e333b",
   "metadata": {},
   "source": [
    "Question 2\n",
    "Given an array nums of n integers, return an array of all the unique quadruplets\n",
    "[nums[a], nums[b], nums[c], nums[d]] such that:\n",
    "           ● 0 <= a, b, c, d < n\n",
    "           ● a, b, c, and d are distinct.\n",
    "           ● nums[a] + nums[b] + nums[c] + nums[d] == target\n",
    "\n",
    "You may return the answer in any order.\n",
    "\n",
    "Example 1:\n",
    "Input: nums = [1,0,-1,0,-2,2], target = 0\n",
    "Output: [[-2,-1,1,2],[-2,0,0,2],[-1,0,0,1]]"
   ]
  },
  {
   "cell_type": "code",
   "execution_count": 3,
   "id": "fe3fd34b-310a-4472-94ac-170ff6bd3844",
   "metadata": {},
   "outputs": [
    {
     "name": "stdout",
     "output_type": "stream",
     "text": [
      "[(1, 0, -1, 0), (1, -1, -2, 2), (0, 0, -2, 2)]\n"
     ]
    }
   ],
   "source": [
    "import itertools\n",
    "def quadruplets(nums,target):\n",
    "    possibilities=itertools.combinations(nums,4)\n",
    "    ans=[]\n",
    "    for i in possibilities :\n",
    "        if sum(i)==target :\n",
    "            ans.append(i)\n",
    "    return ans\n",
    "print(quadruplets([1,0,-1,0,-2,2],0))"
   ]
  },
  {
   "cell_type": "markdown",
   "id": "e9acbedb-f961-4c48-b94b-d1f41a53da67",
   "metadata": {},
   "source": [
    "**Question 3**\n",
    "A permutation of an array of integers is an arrangement of its members into a\n",
    "sequence or linear order.\n",
    "\n",
    "For example, for arr = [1,2,3], the following are all the permutations of arr:\n",
    "[1,2,3], [1,3,2], [2, 1, 3], [2, 3, 1], [3,1,2], [3,2,1].\n",
    "\n",
    "The next permutation of an array of integers is the next lexicographically greater\n",
    "permutation of its integer. More formally, if all the permutations of the array are\n",
    "sorted in one container according to their lexicographical order, then the next\n",
    "permutation of that array is the permutation that follows it in the sorted container.\n",
    "\n",
    "If such an arrangement is not possible, the array must be rearranged as the\n",
    "lowest possible order (i.e., sorted in ascending order).\n",
    "\n",
    "● For example, the next permutation of arr = [1,2,3] is [1,3,2].\n",
    "● Similarly, the next permutation of arr = [2,3,1] is [3,1,2].\n",
    "● While the next permutation of arr = [3,2,1] is [1,2,3] because [3,2,1] does not\n",
    "have a lexicographical larger rearrangement.\n",
    "\n",
    "Given an array of integers nums, find the next permutation of nums.\n",
    "The replacement must be in place and use only constant extra memory.\n",
    "\n",
    "**Example 1:**\n",
    "Input: nums = [1,2,3]\n",
    "Output: [1,3,2]\n",
    "\n",
    "</aside>"
   ]
  },
  {
   "cell_type": "code",
   "execution_count": 31,
   "id": "74f716fa-de57-4675-b17a-e7e60c103575",
   "metadata": {},
   "outputs": [
    {
     "data": {
      "text/plain": [
       "(1, 3, 2)"
      ]
     },
     "execution_count": 31,
     "metadata": {},
     "output_type": "execute_result"
    }
   ],
   "source": [
    "import itertools\n",
    "def next_permutation(nums):\n",
    "    collections=list(itertools.permutations(nums,3))\n",
    "    collections.sort()\n",
    "    current=tuple(nums)\n",
    "    index=collections.index(current)\n",
    "    return collections[index+1]\n",
    "next_permutation([1,2,3])"
   ]
  },
  {
   "cell_type": "markdown",
   "id": "8fef6ed9-7bcc-4f52-9e5f-13d6362f2cdf",
   "metadata": {},
   "source": [
    "\"Question 4\"\n",
    "Given a sorted array of distinct integers and a target value, return the index if the\n",
    "target is found. If not, return the index where it would be if it were inserted in\n",
    "order.\n",
    "\n",
    "You must write an algorithm with O(log n) runtime complexity.\n",
    "\n",
    "Example 1:\n",
    "Input: nums = [1,3,5,6], target = 5\n",
    "Output: 2"
   ]
  },
  {
   "cell_type": "code",
   "execution_count": 1,
   "id": "2188b80b-aece-4d68-82bb-895c20a87eb8",
   "metadata": {},
   "outputs": [
    {
     "name": "stdout",
     "output_type": "stream",
     "text": [
      "3\n"
     ]
    }
   ],
   "source": [
    "def binary_search(nums,target):\n",
    "    l=0\n",
    "    r=len(nums)-1\n",
    "    while l<= r :\n",
    "        mid=(l+r)//2\n",
    "        if target==nums[mid]:\n",
    "            return mid\n",
    "        elif target <nums[mid] :\n",
    "            r=mid-1\n",
    "        else :\n",
    "            l=mid+1\n",
    "    return l\n",
    "print(binary_search([1,2,3,5,6],4))\n",
    "    \n",
    "           "
   ]
  },
  {
   "cell_type": "markdown",
   "id": "90f82acf-f38d-49f8-9436-888042aaa555",
   "metadata": {},
   "source": [
    "**Question 5**\n",
    "You are given a large integer represented as an integer array digits, where each\n",
    "digits[i] is the ith digit of the integer. The digits are ordered from most significant\n",
    "to least significant in left-to-right order. The large integer does not contain any\n",
    "leading 0's.\n",
    "\n",
    "Increment the large integer by one and return the resulting array of digits.\n",
    "\n",
    "**Example 1:**\n",
    "Input: digits = [1,2,3]\n",
    "Output: [1,2,4]\n",
    "\n",
    "**Explanation:** The array represents the integer 123.\n",
    "Incrementing by one gives 123 + 1 = 124.\n",
    "Thus, the result should be [1,2,4].\n",
    "\n",
    "</aside>"
   ]
  },
  {
   "cell_type": "code",
   "execution_count": 7,
   "id": "f50f9a1a-2ce4-4041-80ce-91b84655f96c",
   "metadata": {},
   "outputs": [
    {
     "name": "stdout",
     "output_type": "stream",
     "text": [
      "[-1, 2, 4]\n"
     ]
    }
   ],
   "source": [
    "def add_1(nums):\n",
    "    ans=[]\n",
    "    neg=False\n",
    "    if nums[0]<0 :\n",
    "        neg=True\n",
    "        nums[0]*=-1\n",
    "    if nums[0]>0 :\n",
    "        string=\"\"\n",
    "        for i in nums :\n",
    "            string+=str(i)\n",
    "        string=int(string)+1\n",
    "        string=str(string)\n",
    "        for i in string :\n",
    "            ans.append(int(i))\n",
    "        if neg :\n",
    "            ans[0]*=-1\n",
    "        return ans\n",
    "print(add_1([-1,2,3]))\n",
    "        \n",
    "        \n",
    "        "
   ]
  },
  {
   "cell_type": "markdown",
   "id": "6d229028-4bc9-4459-b1c8-49c13deecda9",
   "metadata": {},
   "source": [
    "Question 6\n",
    "Given a non-empty array of integers nums, every element appears twice except\n",
    "for one. Find that single one.\n",
    "\n",
    "You must implement a solution with a linear runtime complexity and use only\n",
    "constant extra space.\n",
    "\n",
    "Example 1:\n",
    "Input: nums = [2,2,1]\n",
    "Output: 1"
   ]
  },
  {
   "cell_type": "code",
   "execution_count": 8,
   "id": "afa4490b-e26f-4d1a-853c-204669fd23a7",
   "metadata": {},
   "outputs": [
    {
     "data": {
      "text/plain": [
       "5"
      ]
     },
     "execution_count": 8,
     "metadata": {},
     "output_type": "execute_result"
    }
   ],
   "source": [
    "def find_single(nums):\n",
    "    for i in range(len(nums)):\n",
    "        if nums.count(i)==1 :\n",
    "            return i\n",
    "find_single([1,2,3,4,5,4,3,2,1])"
   ]
  },
  {
   "cell_type": "markdown",
   "id": "3474bf8d-231d-45c5-8448-b639311217e0",
   "metadata": {},
   "source": [
    "Question 7\n",
    "You are given an inclusive range [lower, upper] and a sorted unique integer array\n",
    "nums, where all elements are within the inclusive range.\n",
    "\n",
    "A number x is considered missing if x is in the range [lower, upper] and x is not in\n",
    "nums.\n",
    "\n",
    "Return the shortest sorted list of ranges that exactly covers all the missing\n",
    "numbers. That is, no element of nums is included in any of the ranges, and each\n",
    "missing number is covered by one of the ranges.\n",
    "\n",
    "Example 1:\n",
    "Input: nums = [0,1,3,50,75], lower = 0, upper = 99\n",
    "Output: [[2,2],[4,49],[51,74],[76,99]]\n",
    "\n",
    "Explanation: The ranges are:\n",
    "[2,2]\n",
    "[4,49]\n",
    "[51,74]\n",
    "[76,99]"
   ]
  },
  {
   "cell_type": "code",
   "execution_count": 19,
   "id": "4b91acc6-4f95-4bfe-8df4-988819ec3e30",
   "metadata": {},
   "outputs": [
    {
     "data": {
      "text/plain": [
       "[[2, 2], [4, 49], [51, 74], [76, 98]]"
      ]
     },
     "execution_count": 19,
     "metadata": {},
     "output_type": "execute_result"
    }
   ],
   "source": [
    "def ranges(nums,lower,upper):\n",
    "    ans=[]\n",
    "    n=len(nums)\n",
    "    if nums[0]>lower :\n",
    "            ans.append([lower,nums[0]-lower])\n",
    "    for i in range(n-1):\n",
    "        if nums[i+1]-nums[i]==1 :\n",
    "            continue\n",
    "        else :\n",
    "            ans.append([nums[i]+1,nums[i+1]-1])\n",
    "    if nums[n-1]<upper :\n",
    "            ans.append([nums[n-1]+1,upper-1])\n",
    "    return ans\n",
    "ranges([0,1,3,50,75],0,99)"
   ]
  },
  {
   "cell_type": "markdown",
   "id": "e8f0ca2e-a8d8-463c-9617-a31bbf5c7b34",
   "metadata": {},
   "source": [
    "Question 8\n",
    "Given an array of meeting time intervals where intervals[i] = [starti, endi],\n",
    "determine if a person could attend all meetings.\n",
    "\n",
    "Example 1:\n",
    "Input: intervals = [[0,30],[5,10],[15,20]]\n",
    "Output: false"
   ]
  },
  {
   "cell_type": "code",
   "execution_count": 28,
   "id": "ba66b137-4013-4f9d-af7f-fc5e5d57fdd0",
   "metadata": {},
   "outputs": [
    {
     "data": {
      "text/plain": [
       "True"
      ]
     },
     "execution_count": 28,
     "metadata": {},
     "output_type": "execute_result"
    }
   ],
   "source": [
    "def attending(intervals):\n",
    "    intervals.sort()\n",
    "    for i in range(len(intervals)-1):\n",
    "        if intervals[i+1][0] <= intervals[i][1] :\n",
    "            return False\n",
    "    return True\n",
    "attending( [[0,30],[35,40],[45,120]])"
   ]
  },
  {
   "cell_type": "code",
   "execution_count": null,
   "id": "442f9579-6b1a-4ef8-9b27-94e1ad2d37bd",
   "metadata": {},
   "outputs": [],
   "source": []
  }
 ],
 "metadata": {
  "kernelspec": {
   "display_name": "Python 3 (ipykernel)",
   "language": "python",
   "name": "python3"
  },
  "language_info": {
   "codemirror_mode": {
    "name": "ipython",
    "version": 3
   },
   "file_extension": ".py",
   "mimetype": "text/x-python",
   "name": "python",
   "nbconvert_exporter": "python",
   "pygments_lexer": "ipython3",
   "version": "3.10.8"
  }
 },
 "nbformat": 4,
 "nbformat_minor": 5
}
