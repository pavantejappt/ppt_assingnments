{
 "cells": [
  {
   "cell_type": "markdown",
   "id": "0dff57ab-2f3c-4bb2-a5f6-3adceeefce1f",
   "metadata": {},
   "source": [
    "\n",
    "1. Write a Python program to reverse a string without using any built-in string reversal functions.\n",
    "2. Implement a function to check if a given string is a palindrome.\n",
    "3. Write a program to find the largest element in a given list.\n",
    "4. Implement a function to count the occurrence of each element in a list.\n",
    "5. Write a Python program to find the second largest number in a list.\n",
    "6. Implement a function to remove duplicate elements from a list.\n",
    "7. Write a program to calculate the factorial of a given number.\n",
    "8. Implement a function to check if a given number is prime.\n",
    "9. Write a Python program to sort a list of integers in ascending order.\n",
    "10. Implement a function to find the sum of all numbers in a list.\n",
    "11. Write a program to find the common elements between two lists.\n",
    "12. Implement a function to check if a given string is an anagram of another string.\n",
    "13. Write a Python program to generate all permutations of a given string.\n",
    "14. Implement a function to calculate the Fibonacci sequence up to a given number of terms.\n",
    "15. Write a program to find the median of a list of numbers.\n",
    "16. Implement a function to check if a given list is sorted in non-decreasing order.\n",
    "17. Write a Python program to find the intersection of two lists.\n",
    "18. Implement a function to find the maximum subarray sum in a given list.\n",
    "19. Write a program to remove all vowels from a given string.\n",
    "20. Implement a function to reverse the order of words in a given sentence.\n",
    "21. Write a Python program to check if two strings are anagrams of each other.\n",
    "22. Implement a function to find the first non-repeating character in a string.\n",
    "23. Write a program to find the prime factors of a given number.\n",
    "24. Implement a function to check if a given number is a power of two.\n",
    "25. Write a Python program to merge two sorted lists into a single sorted list.\n",
    "26. Implement a function to find the mode of a list of numbers.\n",
    "27. Write a program to find the greatest common divisor (GCD) of two numbers.\n",
    "28. Implement a function to calculate the square root of a given number.\n",
    "29. Write a Python program to check if a given string is a valid palindrome ignoring non-alphanumeric characters.\n",
    "30. Implement a function to find the minimum element in a rotated sorted list.\n",
    "31. Write a program to find the sum of all even numbers in a list.\n",
    "32. Implement a function to calculate the power of a number using recursion.\n",
    "33. Write a Python program to remove duplicates from a list while preserving the order.\n",
    "34. Implement a function to find the longest common prefix among a list of strings.\n",
    "35. Write a program to check if a given number is a perfect square.\n",
    "36. Implement a function to calculate the product of all elements in a list.\n",
    "37. Write a Python program to reverse the order of words in a sentence while preserving the word order.\n",
    "38. Implement a function to find the missing number in a given list of consecutive numbers.\n",
    "39. Write a program to find the sum of digits of a given number.\n",
    "40. Implement a function to check if a given string is a valid palindrome considering case sensitivity.\n",
    "41. Write a Python program to find the smallest missing positive integer in a list.\n",
    "42. Implement a function to find the longest palindrome substring in a given string.\n",
    "43. Write a program to find the number of occurrences of a given element in a list.\n",
    "44. Implement a function to check if a given number is a perfect number.\n",
    "45. Write a Python program to remove all duplicates from a string.\n",
    "46. Implement a function to find the first missing positive\n",
    "\n"
   ]
  },
  {
   "cell_type": "code",
   "execution_count": 5,
   "id": "3a22f2f7-ee07-4739-af50-8eb39b6943ed",
   "metadata": {},
   "outputs": [
    {
     "data": {
      "text/plain": [
       "'ienoreh'"
      ]
     },
     "execution_count": 5,
     "metadata": {},
     "output_type": "execute_result"
    }
   ],
   "source": [
    "#1\n",
    "def reverse(s):\n",
    "    k=\"\"\n",
    "    for i in range(len(s)-1,-1,-1):\n",
    "        k+=s[i]\n",
    "    return k\n",
    "reverse(\"heronei\")\n",
    "    "
   ]
  },
  {
   "cell_type": "code",
   "execution_count": 6,
   "id": "a53bcb32-80f2-444e-94e9-d10e1b5aef66",
   "metadata": {},
   "outputs": [
    {
     "data": {
      "text/plain": [
       "True"
      ]
     },
     "execution_count": 6,
     "metadata": {},
     "output_type": "execute_result"
    }
   ],
   "source": [
    "#2\n",
    "def palindrome(s):\n",
    "    return s==s[::-1]\n",
    "palindrome(\"madam\")"
   ]
  },
  {
   "cell_type": "code",
   "execution_count": 8,
   "id": "cff9f070-5427-4a5a-910e-b711f9c12c58",
   "metadata": {},
   "outputs": [
    {
     "data": {
      "text/plain": [
       "7"
      ]
     },
     "execution_count": 8,
     "metadata": {},
     "output_type": "execute_result"
    }
   ],
   "source": [
    "#3\n",
    "def largest(nums):\n",
    "    largest=-111111\n",
    "    for i in range(len(nums)):\n",
    "        largest=max(nums[i],largest)\n",
    "    return largest\n",
    "largest([1,2,3,4,5,6,7,6,5,4])"
   ]
  },
  {
   "cell_type": "code",
   "execution_count": 12,
   "id": "7d7d2010-6e8f-4dec-9894-40ef2ab63c84",
   "metadata": {},
   "outputs": [
    {
     "data": {
      "text/plain": [
       "{1: 2, 2: 3, 3: 3, 4: 2, 5: 1, 9: 1}"
      ]
     },
     "execution_count": 12,
     "metadata": {},
     "output_type": "execute_result"
    }
   ],
   "source": [
    "#4\n",
    "def counter(nums):\n",
    "    count={}\n",
    "    for i in nums:\n",
    "        if i not in count :\n",
    "            count[i]=0\n",
    "        count[i]+=1\n",
    "    return count\n",
    "counter([1,2,3,4,5,4,3,2,1,2,3,9])"
   ]
  },
  {
   "cell_type": "code",
   "execution_count": 13,
   "id": "469f546a-2eec-4dfe-a389-56429925f480",
   "metadata": {},
   "outputs": [
    {
     "data": {
      "text/plain": [
       "32"
      ]
     },
     "execution_count": 13,
     "metadata": {},
     "output_type": "execute_result"
    }
   ],
   "source": [
    "#5\n",
    "def second_largest(nums):\n",
    "    nums.sort()\n",
    "    return nums[len(nums)-2]\n",
    "second_largest(nums=[1,2,3,4,3,32,45])"
   ]
  },
  {
   "cell_type": "code",
   "execution_count": 15,
   "id": "0e573a39-17e8-4d98-807a-c7aaabc0d875",
   "metadata": {},
   "outputs": [
    {
     "data": {
      "text/plain": [
       "{1, 2, 3, 4, 5, 6, 7}"
      ]
     },
     "execution_count": 15,
     "metadata": {},
     "output_type": "execute_result"
    }
   ],
   "source": [
    "#6\n",
    "def rem_dup(nums):\n",
    "    ans=set()\n",
    "    for i in nums:\n",
    "        ans.add(i)\n",
    "    return ans\n",
    "rem_dup([1,2,1,2,1,2,3,4,3,4,5,6,7,7])"
   ]
  },
  {
   "cell_type": "code",
   "execution_count": 16,
   "id": "e45e2c42-b33c-407a-997d-c5d61d45707c",
   "metadata": {},
   "outputs": [
    {
     "data": {
      "text/plain": [
       "120"
      ]
     },
     "execution_count": 16,
     "metadata": {},
     "output_type": "execute_result"
    }
   ],
   "source": [
    "#7\n",
    "def factorial(n):\n",
    "    if n==1 or n==0 :\n",
    "        return 1\n",
    "    ans=n*factorial(n-1)\n",
    "    return ans\n",
    "factorial(5)"
   ]
  },
  {
   "cell_type": "code",
   "execution_count": 19,
   "id": "88fdda92-5787-4909-b3fa-884608494c4c",
   "metadata": {},
   "outputs": [
    {
     "data": {
      "text/plain": [
       "True"
      ]
     },
     "execution_count": 19,
     "metadata": {},
     "output_type": "execute_result"
    }
   ],
   "source": [
    "#8\n",
    "def prime(n):\n",
    "    count=0\n",
    "    for i in range(1,int(n/2)):\n",
    "        if n%i==0 :\n",
    "            count+=1\n",
    "    if count >2 :\n",
    "        return False\n",
    "    else :\n",
    "        return True\n",
    "prime(7)"
   ]
  },
  {
   "cell_type": "code",
   "execution_count": 5,
   "id": "cc0c596c-52e9-4ef3-901b-fe1d1800d6d5",
   "metadata": {},
   "outputs": [
    {
     "data": {
      "text/plain": [
       "[1, 2, 3]"
      ]
     },
     "execution_count": 5,
     "metadata": {},
     "output_type": "execute_result"
    }
   ],
   "source": [
    "#9\n",
    "def sort(list):\n",
    "    list.sort()\n",
    "    return list\n",
    "sort([3,2,1])"
   ]
  },
  {
   "cell_type": "code",
   "execution_count": 20,
   "id": "62755148-0f95-448c-91f7-d81a8a696178",
   "metadata": {},
   "outputs": [
    {
     "data": {
      "text/plain": [
       "28"
      ]
     },
     "execution_count": 20,
     "metadata": {},
     "output_type": "execute_result"
    }
   ],
   "source": [
    "#10\n",
    "def sum(nums):\n",
    "    ans=0\n",
    "    for i in nums :\n",
    "        ans+=i\n",
    "    return ans\n",
    "sum([1,2,3,4,5,6,7])\n",
    "        "
   ]
  },
  {
   "cell_type": "code",
   "execution_count": 23,
   "id": "e32ca8a1-b564-4dc3-a6c8-6dd99675afca",
   "metadata": {},
   "outputs": [
    {
     "data": {
      "text/plain": [
       "{3, 5, 6, 7, 12}"
      ]
     },
     "execution_count": 23,
     "metadata": {},
     "output_type": "execute_result"
    }
   ],
   "source": [
    "#11\n",
    "def common(num1,num2):\n",
    "    ans=set()\n",
    "    for i in num1:\n",
    "        if i in num1 and num2:\n",
    "            ans.add(i)\n",
    "    return ans\n",
    "common([12,3,5,6,7],[2,4,2,1,3,5])\n",
    "            "
   ]
  },
  {
   "cell_type": "code",
   "execution_count": 1,
   "id": "50b7b543-e1f8-44b0-9931-d88305b34aa7",
   "metadata": {},
   "outputs": [],
   "source": [
    "#q12\n",
    "def is_anagram(str1, str2):\n",
    "    # Convert both strings to lowercase and remove spaces\n",
    "    str1 = str1.lower().replace(\" \", \"\")\n",
    "    str2 = str2.lower().replace(\" \", \"\")\n",
    "\n",
    "    # Check if the lengths of the strings are equal\n",
    "    if len(str1) != len(str2):\n",
    "        return False\n",
    "\n",
    "    # Sort the characters in both strings\n",
    "    sorted_str1 = sorted(str1)\n",
    "    sorted_str2 = sorted(str2)\n",
    "\n",
    "    # Check if the sorted strings are equal\n",
    "    if sorted_str1 == sorted_str2:\n",
    "        return True\n",
    "    else:\n",
    "        return False\n"
   ]
  },
  {
   "cell_type": "code",
   "execution_count": 27,
   "id": "e8b7f7e2-1f1d-4f85-a1ed-457f38ee67ec",
   "metadata": {},
   "outputs": [
    {
     "name": "stdout",
     "output_type": "stream",
     "text": [
      "(1, 2, 3)\n",
      "(1, 3, 2)\n",
      "(2, 1, 3)\n",
      "(2, 3, 1)\n",
      "(3, 1, 2)\n",
      "(3, 2, 1)\n"
     ]
    }
   ],
   "source": [
    "#13\n",
    "import itertools\n",
    "def perm(nums):\n",
    "    perm=itertools.permutations(nums)\n",
    "    for i in perm:\n",
    "        print(i)\n",
    "perm([1,2,3])\n",
    "    "
   ]
  },
  {
   "cell_type": "code",
   "execution_count": 2,
   "id": "40ba631e-c4b2-4246-a26f-186ad302b7a9",
   "metadata": {},
   "outputs": [
    {
     "data": {
      "text/plain": [
       "8"
      ]
     },
     "execution_count": 2,
     "metadata": {},
     "output_type": "execute_result"
    }
   ],
   "source": [
    "#14\n",
    "def fibonacci(n):\n",
    "    if n<=1 :\n",
    "        return 1\n",
    "    return (fibonacci(n-1)+fibonacci(n-2))\n",
    "fibonacci(5)"
   ]
  },
  {
   "cell_type": "code",
   "execution_count": 2,
   "id": "a009a8bb-1a43-4513-8aaa-9a8f7f3dbc17",
   "metadata": {},
   "outputs": [
    {
     "data": {
      "text/plain": [
       "2"
      ]
     },
     "execution_count": 2,
     "metadata": {},
     "output_type": "execute_result"
    }
   ],
   "source": [
    "#q15\n",
    "import statistics\n",
    "def median(list):\n",
    "   return statistics.median(list)\n",
    "median([1,2,3,2,1,2,3,4,5])"
   ]
  },
  {
   "cell_type": "code",
   "execution_count": 8,
   "id": "695c1515-1969-42b9-981c-c5afedfe3e88",
   "metadata": {},
   "outputs": [
    {
     "data": {
      "text/plain": [
       "False"
      ]
     },
     "execution_count": 8,
     "metadata": {},
     "output_type": "execute_result"
    }
   ],
   "source": [
    "#16\n",
    "def ascending(list):\n",
    "    for i in range(len(list)-1):\n",
    "        if list[i+1]<list[i]:\n",
    "            return False\n",
    "    return True\n",
    "ascending([1,2,3,4,5,2])"
   ]
  },
  {
   "cell_type": "code",
   "execution_count": 9,
   "id": "3aae704e-bd6b-4abc-925e-015636ab1691",
   "metadata": {},
   "outputs": [
    {
     "data": {
      "text/plain": [
       "{1, 2, 3}"
      ]
     },
     "execution_count": 9,
     "metadata": {},
     "output_type": "execute_result"
    }
   ],
   "source": [
    "#17\n",
    "def intersection(list1,list2):\n",
    "    x=set(list1)\n",
    "    y=set(list2)\n",
    "    return x.intersection(y)\n",
    "intersection([1,2,3,2,3],[1,3,4,5,2])"
   ]
  },
  {
   "cell_type": "code",
   "execution_count": 4,
   "id": "a9396100-6ba5-4a7b-8edc-c0e18fbd92da",
   "metadata": {},
   "outputs": [
    {
     "data": {
      "text/plain": [
       "4"
      ]
     },
     "execution_count": 4,
     "metadata": {},
     "output_type": "execute_result"
    }
   ],
   "source": [
    "#18\n",
    "def max_subarray_sum(arr):\n",
    "    max_sum = float('-inf')  # Initialize with negative infinity\n",
    "    current_sum = 0\n",
    "\n",
    "    for num in arr:\n",
    "        current_sum = max(num, current_sum + num)\n",
    "        max_sum = max(max_sum, current_sum)\n",
    "\n",
    "    return max_sum\n",
    "max_subarray_sum([1,2,-1,2,-1])"
   ]
  },
  {
   "cell_type": "code",
   "execution_count": 12,
   "id": "365fa82f-ca39-4945-9196-a91b51ef7aae",
   "metadata": {},
   "outputs": [
    {
     "data": {
      "text/plain": [
       "'wl'"
      ]
     },
     "execution_count": 12,
     "metadata": {},
     "output_type": "execute_result"
    }
   ],
   "source": [
    "#19\n",
    "def rem_vowels(s):\n",
    "    vowels=['a','e','i','o','u']\n",
    "    for i in vowels:\n",
    "        if i in s:\n",
    "            s=s.replace(i,'')\n",
    "    return s\n",
    "rem_vowels('owl')"
   ]
  },
  {
   "cell_type": "code",
   "execution_count": 18,
   "id": "8029219b-b8d0-4ba6-9638-11279495f99b",
   "metadata": {},
   "outputs": [
    {
     "data": {
      "text/plain": [
       "'scientist data a is he '"
      ]
     },
     "execution_count": 18,
     "metadata": {},
     "output_type": "execute_result"
    }
   ],
   "source": [
    "#20\n",
    "def rev_words(s):\n",
    "    s=s.split(' ')\n",
    "    s=s[::-1]\n",
    "    ans=\"\"\n",
    "    for i in s:\n",
    "        ans+=i + \" \"\n",
    "    return ans\n",
    "rev_words(\"he is a data scientist\")"
   ]
  },
  {
   "cell_type": "code",
   "execution_count": 7,
   "id": "5d7fb05a-2cb5-4f3f-bb80-304a24202599",
   "metadata": {},
   "outputs": [
    {
     "data": {
      "text/plain": [
       "True"
      ]
     },
     "execution_count": 7,
     "metadata": {},
     "output_type": "execute_result"
    }
   ],
   "source": [
    "#21\n",
    "def is_anagram(str1, str2):\n",
    "    # Convert both strings to lowercase and remove spaces\n",
    "    str1 = str1.lower().replace(\" \", \"\")\n",
    "    str2 = str2.lower().replace(\" \", \"\")\n",
    "\n",
    "    # Check if the lengths of the strings are equal\n",
    "    if len(str1) != len(str2):\n",
    "        return False\n",
    "\n",
    "    # Sort the characters in both strings\n",
    "    sorted_str1 = sorted(str1)\n",
    "    sorted_str2 = sorted(str2)\n",
    "\n",
    "    # Check if the sorted strings are equal\n",
    "    if sorted_str1 == sorted_str2:\n",
    "        return True\n",
    "    else:\n",
    "        return False\n",
    "is_anagram(\"cat\",\"tac\")"
   ]
  },
  {
   "cell_type": "code",
   "execution_count": 19,
   "id": "a170d508-8f4a-40ab-a4c6-ea2dd8c25731",
   "metadata": {},
   "outputs": [
    {
     "data": {
      "text/plain": [
       "'w'"
      ]
     },
     "execution_count": 19,
     "metadata": {},
     "output_type": "execute_result"
    }
   ],
   "source": [
    "#22\n",
    "def non_rep(s):\n",
    "    for i in s:\n",
    "        if s.count(i)==1:\n",
    "            return i\n",
    "non_rep(\"hehehejwj\")"
   ]
  },
  {
   "cell_type": "code",
   "execution_count": 21,
   "id": "b7214002-1dfb-42e2-9595-f64aac748188",
   "metadata": {},
   "outputs": [
    {
     "data": {
      "text/plain": [
       "[1, 5]"
      ]
     },
     "execution_count": 21,
     "metadata": {},
     "output_type": "execute_result"
    }
   ],
   "source": [
    "#23\n",
    "def prime(n):\n",
    "    count=0\n",
    "    for i in range(1,int(n/2)):\n",
    "        if n%i==0 :\n",
    "            count+=1\n",
    "    if count >2 :\n",
    "        return False\n",
    "    else :\n",
    "        return True\n",
    "def prime_factors(n):\n",
    "    ans=[]\n",
    "    for i in range(1,int(n/2)):\n",
    "        if n%i==0 :\n",
    "            if prime(n)==1 :\n",
    "                ans.append(i)\n",
    "    return ans\n",
    "prime_factors(25)"
   ]
  },
  {
   "cell_type": "code",
   "execution_count": 6,
   "id": "1b667395-6e36-47ca-9030-5eb5d9a471ed",
   "metadata": {},
   "outputs": [
    {
     "data": {
      "text/plain": [
       "True"
      ]
     },
     "execution_count": 6,
     "metadata": {},
     "output_type": "execute_result"
    }
   ],
   "source": [
    "#24\n",
    "def power_2(n):\n",
    "    while n > 1:\n",
    "        if n % 2 != 0:\n",
    "            return False\n",
    "        n = n // 2\n",
    "    return n == 1\n",
    "power_2(8)"
   ]
  },
  {
   "cell_type": "code",
   "execution_count": 7,
   "id": "0d6d660b-3c88-4a0f-a3bd-a75f5d2f4c97",
   "metadata": {},
   "outputs": [
    {
     "data": {
      "text/plain": [
       "[1, 1, 2, 2, 3, 3]"
      ]
     },
     "execution_count": 7,
     "metadata": {},
     "output_type": "execute_result"
    }
   ],
   "source": [
    "#25\n",
    "def merge(list1,list2):\n",
    "    for i in list2:\n",
    "        list1.append(i)\n",
    "    list1.sort()\n",
    "    return list1\n",
    "merge([1,2,3],[3,2,1])"
   ]
  },
  {
   "cell_type": "code",
   "execution_count": 8,
   "id": "7ff5969e-3ad0-4d7f-a7c3-4cb929dc7a36",
   "metadata": {},
   "outputs": [
    {
     "data": {
      "text/plain": [
       "1"
      ]
     },
     "execution_count": 8,
     "metadata": {},
     "output_type": "execute_result"
    }
   ],
   "source": [
    "#26\n",
    "import statistics\n",
    "def mode(list):\n",
    "    return statistics.mode(list)\n",
    "mode([1,2,3,22,1,2,3,4])"
   ]
  },
  {
   "cell_type": "code",
   "execution_count": 12,
   "id": "152c2fcf-6520-444c-927b-a60e4402e1f3",
   "metadata": {},
   "outputs": [
    {
     "data": {
      "text/plain": [
       "20"
      ]
     },
     "execution_count": 12,
     "metadata": {},
     "output_type": "execute_result"
    }
   ],
   "source": [
    "#27\n",
    "def gcd(n1,n2):\n",
    "    common_factors=[]\n",
    "    for i in range(1,n2+1):\n",
    "        if n1%i==0 and n2%i==0 :\n",
    "            common_factors.append(i)\n",
    "    return max(common_factors)\n",
    "gcd(100,20)\n",
    "        "
   ]
  },
  {
   "cell_type": "code",
   "execution_count": 9,
   "id": "e32d9231-f690-4026-a02e-392f123e9254",
   "metadata": {},
   "outputs": [
    {
     "data": {
      "text/plain": [
       "2.8284271247461903"
      ]
     },
     "execution_count": 9,
     "metadata": {},
     "output_type": "execute_result"
    }
   ],
   "source": [
    "#28\n",
    "import statistics\n",
    "def sqrt(n):\n",
    "    return statistics.sqrt(n)\n",
    "sqrt(8)"
   ]
  },
  {
   "cell_type": "code",
   "execution_count": 8,
   "id": "c3bd9682-4ad7-4c01-9c64-9dab99b787da",
   "metadata": {},
   "outputs": [
    {
     "name": "stdout",
     "output_type": "stream",
     "text": [
      "A man, a plan, a canal, Panama! is a valid palindrome.\n",
      "race car is a valid palindrome.\n",
      "Hello, World! is not a valid palindrome.\n",
      "12321 is a valid palindrome.\n",
      "No 'x' in Nixon is a valid palindrome.\n"
     ]
    }
   ],
   "source": [
    "#29\n",
    "import re\n",
    "\n",
    "def is_valid_palindrome(string):\n",
    "    # Remove non-alphanumeric characters and convert to lowercase\n",
    "    alphanumeric_string = re.sub(r'[^a-zA-Z0-9]', '', string).lower()\n",
    "    \n",
    "    # Check if the alphanumeric string is a palindrome\n",
    "    return alphanumeric_string == alphanumeric_string[::-1]\n",
    "\n",
    "# Test cases\n",
    "strings = [\"A man, a plan, a canal, Panama!\",\n",
    "           \"race car\",\n",
    "           \"Hello, World!\",\n",
    "           \"12321\",\n",
    "           \"No 'x' in Nixon\"]\n",
    "\n",
    "for string in strings:\n",
    "    if is_valid_palindrome(string):\n",
    "        print(f\"{string} is a valid palindrome.\")\n",
    "    else:\n",
    "        print(f\"{string} is not a valid palindrome.\")\n"
   ]
  },
  {
   "cell_type": "code",
   "execution_count": 13,
   "id": "6d3c11c0-e6ef-4ebc-a821-49a1082d6725",
   "metadata": {},
   "outputs": [
    {
     "data": {
      "text/plain": [
       "1"
      ]
     },
     "execution_count": 13,
     "metadata": {},
     "output_type": "execute_result"
    }
   ],
   "source": [
    "#30\n",
    "def minimum(list):\n",
    "    minimum=10000000\n",
    "    for i in range(len(list)):\n",
    "        minimum=min(minimum,list[i])\n",
    "    return minimum\n",
    "minimum([5,6,7,1,2,3,4])"
   ]
  },
  {
   "cell_type": "code",
   "execution_count": 15,
   "id": "9e92f41f-0fea-4e07-8689-7d4b0670fa64",
   "metadata": {},
   "outputs": [
    {
     "data": {
      "text/plain": [
       "6"
      ]
     },
     "execution_count": 15,
     "metadata": {},
     "output_type": "execute_result"
    }
   ],
   "source": [
    "#31`\n",
    "def sum_of_even(list):\n",
    "    ans=0\n",
    "    for i in list:\n",
    "        if i%2==0:\n",
    "            ans+=i\n",
    "    return ans\n",
    "sum_of_even([1,2,3,4,5])"
   ]
  },
  {
   "cell_type": "code",
   "execution_count": null,
   "id": "c4a424ea-98d7-4e89-822f-c374e10eda83",
   "metadata": {},
   "outputs": [],
   "source": [
    "#32\n",
    "def power(n):\n",
    "    if n==0 or n==1 :\n",
    "        return 1\n",
    "    if n%\n",
    "    return power(n/2)"
   ]
  },
  {
   "cell_type": "code",
   "execution_count": 18,
   "id": "47bda100-bdec-4ac9-bffb-6fbf1de45d99",
   "metadata": {},
   "outputs": [
    {
     "data": {
      "text/plain": [
       "[1, 2, 3, 4, 5, 6]"
      ]
     },
     "execution_count": 18,
     "metadata": {},
     "output_type": "execute_result"
    }
   ],
   "source": [
    "#33\n",
    "def rem_dup(list):\n",
    "    ans=[]\n",
    "    for i in list:\n",
    "        if i not in ans:\n",
    "            ans.append(i)\n",
    "    return ans\n",
    "rem_dup([1,2,1,2,3,4,5,6])"
   ]
  },
  {
   "cell_type": "code",
   "execution_count": 10,
   "id": "32fd4b45-eb9d-4b3b-9dfd-14cf07985d87",
   "metadata": {},
   "outputs": [],
   "source": [
    "#34\n",
    "def longest_common_prefix(strings):\n",
    "    if not strings:\n",
    "        return \"\"  # If the list is empty, return an empty string\n",
    "    \n",
    "    # Sort the strings to find the shortest and longest strings\n",
    "    sorted_strings = sorted(strings)\n",
    "    shortest_string = sorted_strings[0]\n",
    "    longest_string = sorted_strings[-1]\n",
    "    \n",
    "    # Find the common prefix between the shortest and longest strings\n",
    "    prefix = \"\"\n",
    "    for i in range(len(shortest_string)):\n",
    "        if shortest_string[i] == longest_string[i]:\n",
    "            prefix += shortest_string[i]\n",
    "        else:\n",
    "            break\n",
    "    \n",
    "    return prefix\n"
   ]
  },
  {
   "cell_type": "code",
   "execution_count": 11,
   "id": "0902402e-6951-46fb-a40c-d086280d041f",
   "metadata": {},
   "outputs": [
    {
     "name": "stdout",
     "output_type": "stream",
     "text": [
      "16 is a perfect square.\n",
      "25 is a perfect square.\n",
      "8 is not a perfect square.\n",
      "-4 is not a perfect square.\n",
      "0 is a perfect square.\n",
      "9 is a perfect square.\n"
     ]
    }
   ],
   "source": [
    "#35\n",
    "def is_perfect_square(num):\n",
    "    if num < 0:\n",
    "        return False  # Negative numbers are not perfect squares\n",
    "    \n",
    "    # Use the square root function to check if the number is a perfect square\n",
    "    sqrt = int(num ** 0.5)\n",
    "    return sqrt * sqrt == num\n",
    "\n",
    "# Test cases\n",
    "numbers = [16, 25, 8, -4, 0, 9]\n",
    "\n",
    "for number in numbers:\n",
    "    if is_perfect_square(number):\n",
    "        print(number, \"is a perfect square.\")\n",
    "    else:\n",
    "        print(number, \"is not a perfect square.\")\n"
   ]
  },
  {
   "cell_type": "code",
   "execution_count": 19,
   "id": "552c991c-8175-4c08-8d94-195c96c12f10",
   "metadata": {},
   "outputs": [
    {
     "data": {
      "text/plain": [
       "120"
      ]
     },
     "execution_count": 19,
     "metadata": {},
     "output_type": "execute_result"
    }
   ],
   "source": [
    "#36\n",
    "def product(list):\n",
    "    ans=1\n",
    "    for i in list:\n",
    "        ans*=i\n",
    "    return ans\n",
    "product([1,2,3,4,5])"
   ]
  },
  {
   "cell_type": "code",
   "execution_count": 20,
   "id": "755e720d-942b-4ec6-937c-8181d02b93c1",
   "metadata": {},
   "outputs": [
    {
     "data": {
      "text/plain": [
       "'scientist data a is he '"
      ]
     },
     "execution_count": 20,
     "metadata": {},
     "output_type": "execute_result"
    }
   ],
   "source": [
    "#37\n",
    "def rev_words(s):\n",
    "    s=s.split(' ')\n",
    "    s=s[::-1]\n",
    "    ans=\"\"\n",
    "    for i in s:\n",
    "        ans+=i + \" \"\n",
    "    return ans\n",
    "rev_words(\"he is a data scientist\")"
   ]
  },
  {
   "cell_type": "code",
   "execution_count": 23,
   "id": "bdcbd415-ad23-4382-9389-70332b974043",
   "metadata": {},
   "outputs": [
    {
     "data": {
      "text/plain": [
       "3"
      ]
     },
     "execution_count": 23,
     "metadata": {},
     "output_type": "execute_result"
    }
   ],
   "source": [
    "#38\n",
    "def missing(list):\n",
    "    for i in range(len(list)-1):\n",
    "        if list[i+1]-list[i]!=1 :\n",
    "            return list[i]+1\n",
    "missing([1,2,4,5,6,7])"
   ]
  },
  {
   "cell_type": "code",
   "execution_count": 28,
   "id": "db225c42-bf31-46d5-ba4f-d9bb052a9bab",
   "metadata": {},
   "outputs": [
    {
     "data": {
      "text/plain": [
       "6"
      ]
     },
     "execution_count": 28,
     "metadata": {},
     "output_type": "execute_result"
    }
   ],
   "source": [
    "#39\n",
    "def sum_of_digits(n):\n",
    "    n=str(n)\n",
    "    ans=0\n",
    "    for i in n :\n",
    "        val=int(i)\n",
    "        ans+=val\n",
    "    return ans\n",
    "sum_of_digits(123)"
   ]
  },
  {
   "cell_type": "code",
   "execution_count": 29,
   "id": "8ce77706-9cb0-4b50-a896-44e2541945d7",
   "metadata": {},
   "outputs": [
    {
     "data": {
      "text/plain": [
       "2"
      ]
     },
     "execution_count": 29,
     "metadata": {},
     "output_type": "execute_result"
    }
   ],
   "source": [
    "#40\n",
    "def count(list,n):\n",
    "    return list.count(n)\n",
    "count([1,2,3,2,1,2,3,4],3)"
   ]
  },
  {
   "cell_type": "code",
   "execution_count": 12,
   "id": "b66f232d-ac78-4762-bd95-1ff513c4aa2b",
   "metadata": {},
   "outputs": [],
   "source": [
    "#41\n",
    "def find_smallest_missing_positive(nums):\n",
    "    n = len(nums)\n",
    "    contains_one = False\n",
    "\n",
    "    # Mark any non-positive integers and check if 1 is present\n",
    "    for i in range(n):\n",
    "        if nums[i] == 1:\n",
    "            contains_one = True\n",
    "        elif nums[i] <= 0 or nums[i] > n:\n",
    "            nums[i] = 1\n",
    "\n",
    "    # If 1 is not present, return 1\n",
    "    if not contains_one:\n",
    "        return 1\n",
    "\n",
    "    # Use the array indices to mark visited positive integers\n",
    "    for i in range(n):\n",
    "        index = abs(nums[i]) - 1\n",
    "        if nums[index] > 0:\n",
    "            nums[index] = -nums[index]\n",
    "\n",
    "    # Find the first missing positive integer\n",
    "    for i in range(n):\n",
    "        if nums[i] > 0:\n",
    "            return i + 1\n",
    "\n",
    "    # If all positive integers are present, return the next positive integer\n",
    "    return n + 1\n"
   ]
  },
  {
   "cell_type": "code",
   "execution_count": 13,
   "id": "3857bbf0-e6c7-47ae-b504-54145b21c08c",
   "metadata": {},
   "outputs": [],
   "source": [
    "#42\n",
    "def longest_palindrome_substring(string):\n",
    "    n = len(string)\n",
    "    if n < 2:\n",
    "        return string\n",
    "\n",
    "    start, max_len = 0, 1\n",
    "\n",
    "    def expand_around_center(left, right):\n",
    "        while left >= 0 and right < n and string[left] == string[right]:\n",
    "            left -= 1\n",
    "            right += 1\n",
    "        return right - left - 1\n",
    "\n",
    "    for i in range(n - 1):\n",
    "        len1 = expand_around_center(i, i)\n",
    "        len2 = expand_around_center(i, i + 1)\n",
    "        length = max(len1, len2)\n",
    "\n",
    "        if length > max_len:\n",
    "            max_len = length\n",
    "            start = i - (length - 1) // 2\n",
    "\n",
    "    return string[start:start + max_len]\n"
   ]
  },
  {
   "cell_type": "code",
   "execution_count": 14,
   "id": "20959303-e45a-48ff-99e0-2e969875c73d",
   "metadata": {},
   "outputs": [],
   "source": [
    "#43\n",
    "def count_occurrences(nums, target):\n",
    "    count = 0\n",
    "    for num in nums:\n",
    "        if num == target:\n",
    "            count += 1\n",
    "    return count\n"
   ]
  },
  {
   "cell_type": "code",
   "execution_count": 15,
   "id": "72624a4f-3eeb-4d8d-9119-5ff843b4c1b7",
   "metadata": {},
   "outputs": [],
   "source": [
    "#44\n",
    "def is_perfect_number(num):\n",
    "    if num < 6:\n",
    "        return False\n",
    "    divisors_sum = 1\n",
    "    for i in range(2, int(num ** 0.5) + 1):\n",
    "        if num % i == 0:\n",
    "            divisors_sum += i\n",
    "            if i != num // i:\n",
    "                divisors_sum += num // i\n",
    "    return divisors_sum == num\n"
   ]
  },
  {
   "cell_type": "code",
   "execution_count": 30,
   "id": "ee682acd-6e8e-4700-9830-261c024b8533",
   "metadata": {},
   "outputs": [
    {
     "data": {
      "text/plain": [
       "'hero'"
      ]
     },
     "execution_count": 30,
     "metadata": {},
     "output_type": "execute_result"
    }
   ],
   "source": [
    "#45\n",
    "def rem_dup(s):\n",
    "    ans=\"\"\n",
    "    for i in s:\n",
    "        if i not in ans:\n",
    "            ans+=i\n",
    "    return ans\n",
    "rem_dup(\"heroo\")"
   ]
  },
  {
   "cell_type": "code",
   "execution_count": 17,
   "id": "35a596d9-4c46-457a-aa21-5611ba44088b",
   "metadata": {},
   "outputs": [],
   "source": [
    "#46\n",
    "def find_first_missing_positive(nums):\n",
    "    n = len(nums)\n",
    "\n",
    "    # Mark non-positive and out-of-range numbers as 'n + 1'\n",
    "    for i in range(n):\n",
    "        if nums[i] <= 0 or nums[i] > n:\n",
    "            nums[i] = n + 1\n",
    "\n",
    "    # Mark visited numbers by changing the sign of their indices\n",
    "    for i in range(n):\n",
    "        num = abs(nums[i])\n",
    "        if num <= n:\n",
    "            nums[num - 1] = -abs(nums[num - 1])\n",
    "\n",
    "    # Find the first positive number, indicating the missing positive\n",
    "    for i in range(n):\n",
    "        if nums[i] > 0:\n",
    "            return i + 1\n",
    "\n",
    "    # If all numbers from 1 to 'n' are present, return 'n + 1'\n",
    "    return n + 1\n"
   ]
  },
  {
   "cell_type": "code",
   "execution_count": null,
   "id": "ac044051-d8fa-46ef-83eb-8879fd150def",
   "metadata": {},
   "outputs": [],
   "source": []
  }
 ],
 "metadata": {
  "kernelspec": {
   "display_name": "Python 3 (ipykernel)",
   "language": "python",
   "name": "python3"
  },
  "language_info": {
   "codemirror_mode": {
    "name": "ipython",
    "version": 3
   },
   "file_extension": ".py",
   "mimetype": "text/x-python",
   "name": "python",
   "nbconvert_exporter": "python",
   "pygments_lexer": "ipython3",
   "version": "3.10.8"
  }
 },
 "nbformat": 4,
 "nbformat_minor": 5
}
